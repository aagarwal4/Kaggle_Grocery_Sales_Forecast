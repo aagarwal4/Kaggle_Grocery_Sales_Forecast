{
 "cells": [
  {
   "cell_type": "code",
   "execution_count": 1,
   "metadata": {
    "collapsed": true
   },
   "outputs": [],
   "source": [
    "%load_ext autoreload\n",
    "%autoreload 2\n",
    "\n",
    "%matplotlib inline"
   ]
  },
  {
   "cell_type": "code",
   "execution_count": 2,
   "metadata": {
    "collapsed": true
   },
   "outputs": [],
   "source": [
    "from fastai.imports import *\n",
    "from fastai.structured import *\n",
    "\n",
    "from pandas_summary import DataFrameSummary\n",
    "from sklearn.ensemble import RandomForestRegressor\n",
    "from IPython.display import display\n",
    "\n",
    "from sklearn import metrics\n",
    "from sklearn.externals import joblib\n",
    "\n",
    "from dateutil.relativedelta import relativedelta"
   ]
  },
  {
   "cell_type": "code",
   "execution_count": 3,
   "metadata": {
    "collapsed": true
   },
   "outputs": [],
   "source": [
    "#Importing train_sub file after all data processing\n",
    "train_sub = pd.read_feather('grocery_train_raw_final')"
   ]
  },
  {
   "cell_type": "markdown",
   "metadata": {},
   "source": [
    "## Pre-processing Training Data"
   ]
  },
  {
   "cell_type": "code",
   "execution_count": 4,
   "metadata": {},
   "outputs": [
    {
     "data": {
      "text/plain": [
       "array([228, 259, 289, 320, 350,  15,  46,  74, 105, 135, 166, 196, 227])"
      ]
     },
     "execution_count": 4,
     "metadata": {},
     "output_type": "execute_result"
    }
   ],
   "source": [
    "mid_month = train_sub.Dayofyear[train_sub.Day == 15].unique()\n",
    "mid_month"
   ]
  },
  {
   "cell_type": "code",
   "execution_count": 5,
   "metadata": {},
   "outputs": [
    {
     "data": {
      "text/plain": [
       "array([244, 274, 305, 335, 366,  31,  59,  90, 120, 151, 181, 212])"
      ]
     },
     "execution_count": 5,
     "metadata": {},
     "output_type": "execute_result"
    }
   ],
   "source": [
    "end_month = train_sub.Dayofyear[train_sub.Is_month_end == True].unique()\n",
    "end_month"
   ]
  },
  {
   "cell_type": "code",
   "execution_count": 6,
   "metadata": {},
   "outputs": [
    {
     "data": {
      "text/plain": [
       "array([228, 259, 289, 320, 350,  15,  46,  74, 105, 135, 166, 196, 227, 244, 274, 305, 335, 366,  31,  59,\n",
       "        90, 120, 151, 181, 212])"
      ]
     },
     "execution_count": 6,
     "metadata": {},
     "output_type": "execute_result"
    }
   ],
   "source": [
    "paydates = np.append(mid_month, end_month)\n",
    "paydates"
   ]
  },
  {
   "cell_type": "code",
   "execution_count": 7,
   "metadata": {
    "collapsed": true
   },
   "outputs": [],
   "source": [
    "#Adding pay days data to train_sub \n",
    "train_sub['PayDay'] = np.where(np.isin(train_sub.Dayofyear, paydates), 1, 0)"
   ]
  },
  {
   "cell_type": "code",
   "execution_count": 8,
   "metadata": {},
   "outputs": [
    {
     "data": {
      "text/plain": [
       "array([228, 244, 259, 274, 289, 305, 320, 335, 350, 366,  15,  31,  46,  59,  74,  90, 105, 120, 135, 151,\n",
       "       166, 181, 196, 212, 227])"
      ]
     },
     "execution_count": 8,
     "metadata": {},
     "output_type": "execute_result"
    }
   ],
   "source": [
    "train_sub.Dayofyear[train_sub.PayDay == 1].unique()"
   ]
  },
  {
   "cell_type": "code",
   "execution_count": 9,
   "metadata": {
    "collapsed": true
   },
   "outputs": [],
   "source": [
    "# For every store, add total number of sales\n",
    "sales_by_store = train_sub.groupby(by=['store_nbr'], as_index=False)['unit_sales'].sum()"
   ]
  },
  {
   "cell_type": "code",
   "execution_count": 10,
   "metadata": {},
   "outputs": [
    {
     "data": {
      "text/plain": [
       "5       4.994\n",
       "109     2.610\n",
       "229     4.583\n",
       "233     3.747\n",
       "234    21.466\n",
       "Name: unit_sales, dtype: float32"
      ]
     },
     "execution_count": 10,
     "metadata": {},
     "output_type": "execute_result"
    }
   ],
   "source": [
    "#Checking whether unit_sales are integers\n",
    "train_sub.unit_sales[train_sub.unit_sales%1 != 0].head(5)"
   ]
  },
  {
   "cell_type": "code",
   "execution_count": 11,
   "metadata": {
    "collapsed": true
   },
   "outputs": [],
   "source": [
    "sales_by_store = sales_by_store.rename(columns = {'unit_sales':'total_store_sales'})"
   ]
  },
  {
   "cell_type": "code",
   "execution_count": 12,
   "metadata": {
    "collapsed": true
   },
   "outputs": [],
   "source": [
    "train_sub = pd.merge(train_sub, sales_by_store, how='left', on=['store_nbr'])"
   ]
  },
  {
   "cell_type": "code",
   "execution_count": 13,
   "metadata": {},
   "outputs": [
    {
     "data": {
      "text/plain": [
       "0    4756712.5\n",
       "1    4756712.5\n",
       "2    4756712.5\n",
       "3    4756712.5\n",
       "4    4756712.5\n",
       "Name: total_store_sales, dtype: float32"
      ]
     },
     "execution_count": 13,
     "metadata": {},
     "output_type": "execute_result"
    }
   ],
   "source": [
    "train_sub.total_store_sales.head(5)"
   ]
  },
  {
   "cell_type": "code",
   "execution_count": 14,
   "metadata": {
    "collapsed": true
   },
   "outputs": [],
   "source": [
    "# Number of times every item in every store was returned\n",
    "num_return_store = train_sub.groupby(by='store_nbr', as_index=False)['was_returned'].sum()"
   ]
  },
  {
   "cell_type": "code",
   "execution_count": 15,
   "metadata": {},
   "outputs": [
    {
     "data": {
      "text/plain": [
       "array([  84.,   65.,  120.,   88.,   32.,   64.,   90.,   70.,   13.,   15.,   25.,   29.,   17.,   22.,\n",
       "        135.,   24.,   37.,   42.,   19.,   57.,  114.,   55.,   20.,   50.,   26.,   38.,   36.,   27.,\n",
       "         45.,  143.,   72.,  115.,   51.,   83.,    7.,   16.])"
      ]
     },
     "execution_count": 15,
     "metadata": {},
     "output_type": "execute_result"
    }
   ],
   "source": [
    "num_return_store.was_returned.unique()    "
   ]
  },
  {
   "cell_type": "code",
   "execution_count": 16,
   "metadata": {
    "collapsed": true
   },
   "outputs": [],
   "source": [
    "num_return_store = num_return_store.rename(columns = {'was_returned':'ret_frq_by_store'})"
   ]
  },
  {
   "cell_type": "code",
   "execution_count": 17,
   "metadata": {},
   "outputs": [
    {
     "data": {
      "text/plain": [
       "(array([ 12.,  15.,   9.,   4.,   5.,   3.,   1.,   2.,   1.,   2.]),\n",
       " array([   7. ,   20.6,   34.2,   47.8,   61.4,   75. ,   88.6,  102.2,  115.8,  129.4,  143. ]),\n",
       " <a list of 10 Patch objects>)"
      ]
     },
     "execution_count": 17,
     "metadata": {},
     "output_type": "execute_result"
    },
    {
     "data": {
      "image/png": "[encoded data removed]",
      "text/plain": [
       "<matplotlib.figure.Figure at 0x7fa24e7a76a0>"
      ]
     },
     "metadata": {},
     "output_type": "display_data"
    }
   ],
   "source": [
    "plt.hist(num_return_store.ret_frq_by_store)"
   ]
  },
  {
   "cell_type": "code",
   "execution_count": 18,
   "metadata": {
    "collapsed": true
   },
   "outputs": [],
   "source": [
    "train_sub = pd.merge(train_sub, num_return_store, how='left', on=['store_nbr'])"
   ]
  },
  {
   "cell_type": "code",
   "execution_count": 19,
   "metadata": {},
   "outputs": [
    {
     "data": {
      "text/html": [
       "<div>\n",
       "<style scoped>\n",
       "    .dataframe tbody tr th:only-of-type {\n",
       "        vertical-align: middle;\n",
       "    }\n",
       "\n",
       "    .dataframe tbody tr th {\n",
       "        vertical-align: top;\n",
       "    }\n",
       "\n",
       "    .dataframe thead th {\n",
       "        text-align: right;\n",
       "    }\n",
       "</style>\n",
       "<table border=\"1\" class=\"dataframe\">\n",
       "  <thead>\n",
       "    <tr style=\"text-align: right;\">\n",
       "      <th></th>\n",
       "      <th>id</th>\n",
       "      <th>store_nbr</th>\n",
       "      <th>item_nbr</th>\n",
       "      <th>unit_sales</th>\n",
       "      <th>onpromotion</th>\n",
       "      <th>was_returned</th>\n",
       "      <th>transactions</th>\n",
       "      <th>city</th>\n",
       "      <th>state</th>\n",
       "      <th>type</th>\n",
       "      <th>...</th>\n",
       "      <th>Is_month_end</th>\n",
       "      <th>Is_month_start</th>\n",
       "      <th>Is_quarter_end</th>\n",
       "      <th>Is_quarter_start</th>\n",
       "      <th>Is_year_end</th>\n",
       "      <th>Is_year_start</th>\n",
       "      <th>Elapsed</th>\n",
       "      <th>PayDay</th>\n",
       "      <th>total_store_sales</th>\n",
       "      <th>ret_frq_by_store</th>\n",
       "    </tr>\n",
       "  </thead>\n",
       "  <tbody>\n",
       "    <tr>\n",
       "      <th>0</th>\n",
       "      <td>88106511</td>\n",
       "      <td>38</td>\n",
       "      <td>1998889</td>\n",
       "      <td>2.0</td>\n",
       "      <td>0</td>\n",
       "      <td>0</td>\n",
       "      <td>1301.0</td>\n",
       "      <td>Loja</td>\n",
       "      <td>Loja</td>\n",
       "      <td>D</td>\n",
       "      <td>...</td>\n",
       "      <td>False</td>\n",
       "      <td>False</td>\n",
       "      <td>False</td>\n",
       "      <td>False</td>\n",
       "      <td>False</td>\n",
       "      <td>False</td>\n",
       "      <td>1471219200</td>\n",
       "      <td>1</td>\n",
       "      <td>4756712.5</td>\n",
       "      <td>45.0</td>\n",
       "    </tr>\n",
       "    <tr>\n",
       "      <th>1</th>\n",
       "      <td>88106510</td>\n",
       "      <td>38</td>\n",
       "      <td>1998005</td>\n",
       "      <td>4.0</td>\n",
       "      <td>0</td>\n",
       "      <td>0</td>\n",
       "      <td>1301.0</td>\n",
       "      <td>Loja</td>\n",
       "      <td>Loja</td>\n",
       "      <td>D</td>\n",
       "      <td>...</td>\n",
       "      <td>False</td>\n",
       "      <td>False</td>\n",
       "      <td>False</td>\n",
       "      <td>False</td>\n",
       "      <td>False</td>\n",
       "      <td>False</td>\n",
       "      <td>1471219200</td>\n",
       "      <td>1</td>\n",
       "      <td>4756712.5</td>\n",
       "      <td>45.0</td>\n",
       "    </tr>\n",
       "    <tr>\n",
       "      <th>2</th>\n",
       "      <td>88106509</td>\n",
       "      <td>38</td>\n",
       "      <td>1997976</td>\n",
       "      <td>1.0</td>\n",
       "      <td>0</td>\n",
       "      <td>0</td>\n",
       "      <td>1301.0</td>\n",
       "      <td>Loja</td>\n",
       "      <td>Loja</td>\n",
       "      <td>D</td>\n",
       "      <td>...</td>\n",
       "      <td>False</td>\n",
       "      <td>False</td>\n",
       "      <td>False</td>\n",
       "      <td>False</td>\n",
       "      <td>False</td>\n",
       "      <td>False</td>\n",
       "      <td>1471219200</td>\n",
       "      <td>1</td>\n",
       "      <td>4756712.5</td>\n",
       "      <td>45.0</td>\n",
       "    </tr>\n",
       "    <tr>\n",
       "      <th>3</th>\n",
       "      <td>88106508</td>\n",
       "      <td>38</td>\n",
       "      <td>1997895</td>\n",
       "      <td>1.0</td>\n",
       "      <td>0</td>\n",
       "      <td>0</td>\n",
       "      <td>1301.0</td>\n",
       "      <td>Loja</td>\n",
       "      <td>Loja</td>\n",
       "      <td>D</td>\n",
       "      <td>...</td>\n",
       "      <td>False</td>\n",
       "      <td>False</td>\n",
       "      <td>False</td>\n",
       "      <td>False</td>\n",
       "      <td>False</td>\n",
       "      <td>False</td>\n",
       "      <td>1471219200</td>\n",
       "      <td>1</td>\n",
       "      <td>4756712.5</td>\n",
       "      <td>45.0</td>\n",
       "    </tr>\n",
       "    <tr>\n",
       "      <th>4</th>\n",
       "      <td>88106507</td>\n",
       "      <td>38</td>\n",
       "      <td>1994863</td>\n",
       "      <td>9.0</td>\n",
       "      <td>0</td>\n",
       "      <td>0</td>\n",
       "      <td>1301.0</td>\n",
       "      <td>Loja</td>\n",
       "      <td>Loja</td>\n",
       "      <td>D</td>\n",
       "      <td>...</td>\n",
       "      <td>False</td>\n",
       "      <td>False</td>\n",
       "      <td>False</td>\n",
       "      <td>False</td>\n",
       "      <td>False</td>\n",
       "      <td>False</td>\n",
       "      <td>1471219200</td>\n",
       "      <td>1</td>\n",
       "      <td>4756712.5</td>\n",
       "      <td>45.0</td>\n",
       "    </tr>\n",
       "  </tbody>\n",
       "</table>\n",
       "<p>5 rows × 37 columns</p>\n",
       "</div>"
      ],
      "text/plain": [
       "         id  store_nbr  item_nbr  unit_sales  onpromotion  was_returned  \\\n",
       "0  88106511         38   1998889         2.0            0             0   \n",
       "1  88106510         38   1998005         4.0            0             0   \n",
       "2  88106509         38   1997976         1.0            0             0   \n",
       "3  88106508         38   1997895         1.0            0             0   \n",
       "4  88106507         38   1994863         9.0            0             0   \n",
       "\n",
       "   transactions  city state type       ...         Is_month_end  \\\n",
       "0        1301.0  Loja  Loja    D       ...                False   \n",
       "1        1301.0  Loja  Loja    D       ...                False   \n",
       "2        1301.0  Loja  Loja    D       ...                False   \n",
       "3        1301.0  Loja  Loja    D       ...                False   \n",
       "4        1301.0  Loja  Loja    D       ...                False   \n",
       "\n",
       "  Is_month_start  Is_quarter_end  Is_quarter_start  Is_year_end Is_year_start  \\\n",
       "0          False           False             False        False         False   \n",
       "1          False           False             False        False         False   \n",
       "2          False           False             False        False         False   \n",
       "3          False           False             False        False         False   \n",
       "4          False           False             False        False         False   \n",
       "\n",
       "      Elapsed PayDay total_store_sales ret_frq_by_store  \n",
       "0  1471219200      1         4756712.5             45.0  \n",
       "1  1471219200      1         4756712.5             45.0  \n",
       "2  1471219200      1         4756712.5             45.0  \n",
       "3  1471219200      1         4756712.5             45.0  \n",
       "4  1471219200      1         4756712.5             45.0  \n",
       "\n",
       "[5 rows x 37 columns]"
      ]
     },
     "execution_count": 19,
     "metadata": {},
     "output_type": "execute_result"
    }
   ],
   "source": [
    "train_sub.head()"
   ]
  },
  {
   "cell_type": "code",
   "execution_count": 20,
   "metadata": {
    "collapsed": true
   },
   "outputs": [],
   "source": [
    "# Number of times every item by item number was returned\n",
    "num_return_item = train_sub.groupby(by='item_nbr', as_index=False)['was_returned'].sum()"
   ]
  },
  {
   "cell_type": "code",
   "execution_count": 21,
   "metadata": {},
   "outputs": [
    {
     "data": {
      "text/plain": [
       "array([ 0,  1,  2,  3, 18,  5,  4,  8,  6, 13, 19, 10, 46,  9, 12,  7, 22, 11, 65])"
      ]
     },
     "execution_count": 21,
     "metadata": {},
     "output_type": "execute_result"
    }
   ],
   "source": [
    "num_return_item.was_returned.unique()    # array([0, 1, 2, 3, 6, 4, 5])"
   ]
  },
  {
   "cell_type": "code",
   "execution_count": 22,
   "metadata": {
    "collapsed": true
   },
   "outputs": [],
   "source": [
    "num_return_item = num_return_item.rename(columns = {'was_returned':'ret_frq_by_item'})"
   ]
  },
  {
   "cell_type": "code",
   "execution_count": 23,
   "metadata": {},
   "outputs": [
    {
     "data": {
      "text/plain": [
       "(array([ 4017.,    12.,     4.,     1.,     0.,     0.,     0.,     1.,     0.,     1.]),\n",
       " array([  0. ,   6.5,  13. ,  19.5,  26. ,  32.5,  39. ,  45.5,  52. ,  58.5,  65. ]),\n",
       " <a list of 10 Patch objects>)"
      ]
     },
     "execution_count": 23,
     "metadata": {},
     "output_type": "execute_result"
    },
    {
     "data": {
      "image/png": "[encoded data removed]",
      "text/plain": [
       "<matplotlib.figure.Figure at 0x7fa24e62feb8>"
      ]
     },
     "metadata": {},
     "output_type": "display_data"
    }
   ],
   "source": [
    "plt.hist(num_return_item.ret_frq_by_item)"
   ]
  },
  {
   "cell_type": "code",
   "execution_count": 24,
   "metadata": {
    "collapsed": true
   },
   "outputs": [],
   "source": [
    "train_sub = pd.merge(train_sub, num_return_item, how='left', on=['item_nbr'])"
   ]
  },
  {
   "cell_type": "code",
   "execution_count": 25,
   "metadata": {},
   "outputs": [
    {
     "data": {
      "text/plain": [
       "id                       int32\n",
       "store_nbr                 int8\n",
       "item_nbr                 int32\n",
       "unit_sales             float32\n",
       "onpromotion               int8\n",
       "was_returned              int8\n",
       "transactions           float64\n",
       "city                  category\n",
       "state                 category\n",
       "type                  category\n",
       "cluster                  int64\n",
       "family                category\n",
       "class                    int64\n",
       "perishable               int64\n",
       "dcoilwtico             float32\n",
       "holiday_type_city     category\n",
       "description_city      category\n",
       "holiday_type_state    category\n",
       "description_state     category\n",
       "holiday_type_nat      category\n",
       "description_nat       category\n",
       "Year                     int64\n",
       "Month                    int64\n",
       "Week                     int64\n",
       "Day                      int64\n",
       "Dayofweek                int64\n",
       "Dayofyear                int64\n",
       "Is_month_end              bool\n",
       "Is_month_start            bool\n",
       "Is_quarter_end            bool\n",
       "Is_quarter_start          bool\n",
       "Is_year_end               bool\n",
       "Is_year_start             bool\n",
       "Elapsed                  int64\n",
       "PayDay                   int64\n",
       "total_store_sales      float32\n",
       "ret_frq_by_store       float64\n",
       "ret_frq_by_item           int8\n",
       "dtype: object"
      ]
     },
     "execution_count": 25,
     "metadata": {},
     "output_type": "execute_result"
    }
   ],
   "source": [
    "train_sub.dtypes"
   ]
  },
  {
   "cell_type": "code",
   "execution_count": 26,
   "metadata": {
    "collapsed": true
   },
   "outputs": [],
   "source": [
    "#Dropping was_returned column\n",
    "train_sub.drop('was_returned', axis=1, inplace=True)"
   ]
  },
  {
   "cell_type": "code",
   "execution_count": 27,
   "metadata": {},
   "outputs": [
    {
     "data": {
      "text/html": [
       "<div>\n",
       "<style scoped>\n",
       "    .dataframe tbody tr th:only-of-type {\n",
       "        vertical-align: middle;\n",
       "    }\n",
       "\n",
       "    .dataframe tbody tr th {\n",
       "        vertical-align: top;\n",
       "    }\n",
       "\n",
       "    .dataframe thead th {\n",
       "        text-align: right;\n",
       "    }\n",
       "</style>\n",
       "<table border=\"1\" class=\"dataframe\">\n",
       "  <thead>\n",
       "    <tr style=\"text-align: right;\">\n",
       "      <th></th>\n",
       "      <th>id</th>\n",
       "      <th>store_nbr</th>\n",
       "      <th>item_nbr</th>\n",
       "      <th>unit_sales</th>\n",
       "      <th>onpromotion</th>\n",
       "      <th>transactions</th>\n",
       "      <th>city</th>\n",
       "      <th>state</th>\n",
       "      <th>type</th>\n",
       "      <th>cluster</th>\n",
       "      <th>...</th>\n",
       "      <th>Is_month_start</th>\n",
       "      <th>Is_quarter_end</th>\n",
       "      <th>Is_quarter_start</th>\n",
       "      <th>Is_year_end</th>\n",
       "      <th>Is_year_start</th>\n",
       "      <th>Elapsed</th>\n",
       "      <th>PayDay</th>\n",
       "      <th>total_store_sales</th>\n",
       "      <th>ret_frq_by_store</th>\n",
       "      <th>ret_frq_by_item</th>\n",
       "    </tr>\n",
       "  </thead>\n",
       "  <tbody>\n",
       "    <tr>\n",
       "      <th>0</th>\n",
       "      <td>88106511</td>\n",
       "      <td>38</td>\n",
       "      <td>1998889</td>\n",
       "      <td>2.0</td>\n",
       "      <td>0</td>\n",
       "      <td>1301.0</td>\n",
       "      <td>Loja</td>\n",
       "      <td>Loja</td>\n",
       "      <td>D</td>\n",
       "      <td>4</td>\n",
       "      <td>...</td>\n",
       "      <td>False</td>\n",
       "      <td>False</td>\n",
       "      <td>False</td>\n",
       "      <td>False</td>\n",
       "      <td>False</td>\n",
       "      <td>1471219200</td>\n",
       "      <td>1</td>\n",
       "      <td>4756712.5</td>\n",
       "      <td>45.0</td>\n",
       "      <td>1</td>\n",
       "    </tr>\n",
       "    <tr>\n",
       "      <th>1</th>\n",
       "      <td>88106510</td>\n",
       "      <td>38</td>\n",
       "      <td>1998005</td>\n",
       "      <td>4.0</td>\n",
       "      <td>0</td>\n",
       "      <td>1301.0</td>\n",
       "      <td>Loja</td>\n",
       "      <td>Loja</td>\n",
       "      <td>D</td>\n",
       "      <td>4</td>\n",
       "      <td>...</td>\n",
       "      <td>False</td>\n",
       "      <td>False</td>\n",
       "      <td>False</td>\n",
       "      <td>False</td>\n",
       "      <td>False</td>\n",
       "      <td>1471219200</td>\n",
       "      <td>1</td>\n",
       "      <td>4756712.5</td>\n",
       "      <td>45.0</td>\n",
       "      <td>0</td>\n",
       "    </tr>\n",
       "    <tr>\n",
       "      <th>2</th>\n",
       "      <td>88106509</td>\n",
       "      <td>38</td>\n",
       "      <td>1997976</td>\n",
       "      <td>1.0</td>\n",
       "      <td>0</td>\n",
       "      <td>1301.0</td>\n",
       "      <td>Loja</td>\n",
       "      <td>Loja</td>\n",
       "      <td>D</td>\n",
       "      <td>4</td>\n",
       "      <td>...</td>\n",
       "      <td>False</td>\n",
       "      <td>False</td>\n",
       "      <td>False</td>\n",
       "      <td>False</td>\n",
       "      <td>False</td>\n",
       "      <td>1471219200</td>\n",
       "      <td>1</td>\n",
       "      <td>4756712.5</td>\n",
       "      <td>45.0</td>\n",
       "      <td>2</td>\n",
       "    </tr>\n",
       "    <tr>\n",
       "      <th>3</th>\n",
       "      <td>88106508</td>\n",
       "      <td>38</td>\n",
       "      <td>1997895</td>\n",
       "      <td>1.0</td>\n",
       "      <td>0</td>\n",
       "      <td>1301.0</td>\n",
       "      <td>Loja</td>\n",
       "      <td>Loja</td>\n",
       "      <td>D</td>\n",
       "      <td>4</td>\n",
       "      <td>...</td>\n",
       "      <td>False</td>\n",
       "      <td>False</td>\n",
       "      <td>False</td>\n",
       "      <td>False</td>\n",
       "      <td>False</td>\n",
       "      <td>1471219200</td>\n",
       "      <td>1</td>\n",
       "      <td>4756712.5</td>\n",
       "      <td>45.0</td>\n",
       "      <td>0</td>\n",
       "    </tr>\n",
       "    <tr>\n",
       "      <th>4</th>\n",
       "      <td>88106507</td>\n",
       "      <td>38</td>\n",
       "      <td>1994863</td>\n",
       "      <td>9.0</td>\n",
       "      <td>0</td>\n",
       "      <td>1301.0</td>\n",
       "      <td>Loja</td>\n",
       "      <td>Loja</td>\n",
       "      <td>D</td>\n",
       "      <td>4</td>\n",
       "      <td>...</td>\n",
       "      <td>False</td>\n",
       "      <td>False</td>\n",
       "      <td>False</td>\n",
       "      <td>False</td>\n",
       "      <td>False</td>\n",
       "      <td>1471219200</td>\n",
       "      <td>1</td>\n",
       "      <td>4756712.5</td>\n",
       "      <td>45.0</td>\n",
       "      <td>0</td>\n",
       "    </tr>\n",
       "  </tbody>\n",
       "</table>\n",
       "<p>5 rows × 37 columns</p>\n",
       "</div>"
      ],
      "text/plain": [
       "         id  store_nbr  item_nbr  unit_sales  onpromotion  transactions  city  \\\n",
       "0  88106511         38   1998889         2.0            0        1301.0  Loja   \n",
       "1  88106510         38   1998005         4.0            0        1301.0  Loja   \n",
       "2  88106509         38   1997976         1.0            0        1301.0  Loja   \n",
       "3  88106508         38   1997895         1.0            0        1301.0  Loja   \n",
       "4  88106507         38   1994863         9.0            0        1301.0  Loja   \n",
       "\n",
       "  state type  cluster       ...       Is_month_start  Is_quarter_end  \\\n",
       "0  Loja    D        4       ...                False           False   \n",
       "1  Loja    D        4       ...                False           False   \n",
       "2  Loja    D        4       ...                False           False   \n",
       "3  Loja    D        4       ...                False           False   \n",
       "4  Loja    D        4       ...                False           False   \n",
       "\n",
       "   Is_quarter_start  Is_year_end Is_year_start     Elapsed PayDay  \\\n",
       "0             False        False         False  1471219200      1   \n",
       "1             False        False         False  1471219200      1   \n",
       "2             False        False         False  1471219200      1   \n",
       "3             False        False         False  1471219200      1   \n",
       "4             False        False         False  1471219200      1   \n",
       "\n",
       "  total_store_sales ret_frq_by_store ret_frq_by_item  \n",
       "0         4756712.5             45.0               1  \n",
       "1         4756712.5             45.0               0  \n",
       "2         4756712.5             45.0               2  \n",
       "3         4756712.5             45.0               0  \n",
       "4         4756712.5             45.0               0  \n",
       "\n",
       "[5 rows x 37 columns]"
      ]
     },
     "execution_count": 27,
     "metadata": {},
     "output_type": "execute_result"
    }
   ],
   "source": [
    "train_sub.head()"
   ]
  },
  {
   "cell_type": "code",
   "execution_count": 28,
   "metadata": {
    "collapsed": true
   },
   "outputs": [],
   "source": [
    "#Not setting one-hot encoding -> max_n_cat = 7\n",
    "df_trn, y_trn, _ = proc_df(train_sub, 'unit_sales')"
   ]
  },
  {
   "cell_type": "code",
   "execution_count": 29,
   "metadata": {
    "collapsed": true
   },
   "outputs": [],
   "source": [
    "df_trn['date'] = pd.to_datetime(pd.DataFrame({'year': train_sub.Year.tolist(),\n",
    "                                              'month': train_sub.Month.tolist(),\n",
    "                                              'day': train_sub.Day.tolist()}))"
   ]
  },
  {
   "cell_type": "code",
   "execution_count": 30,
   "metadata": {
    "collapsed": true
   },
   "outputs": [],
   "source": [
    "y_trn = np.log1p(np.clip(y_trn, 0, None))"
   ]
  },
  {
   "cell_type": "markdown",
   "metadata": {},
   "source": [
    "## Pre-processing Test Data"
   ]
  },
  {
   "cell_type": "code",
   "execution_count": 31,
   "metadata": {
    "collapsed": true
   },
   "outputs": [],
   "source": [
    "grocery_test = pd.read_feather('grocery_test_final')"
   ]
  },
  {
   "cell_type": "code",
   "execution_count": 32,
   "metadata": {
    "collapsed": true
   },
   "outputs": [],
   "source": [
    "#Imputing ret_frq_by_item in grocery_test since there are NAs\n",
    "ret_frq_median = grocery_test.groupby(['item_nbr', 'Year', 'Month'], as_index=False)[['ret_frq_by_item']].median()\n",
    "ret_frq_median.columns = ['item_nbr', 'Year', 'Month','ret_frq_med']\n",
    "ret_frq_median.fillna(0, inplace = True)"
   ]
  },
  {
   "cell_type": "code",
   "execution_count": 33,
   "metadata": {},
   "outputs": [
    {
     "data": {
      "text/plain": [
       "Index([], dtype='object')"
      ]
     },
     "execution_count": 33,
     "metadata": {},
     "output_type": "execute_result"
    }
   ],
   "source": [
    "ret_frq_median.columns[ret_frq_median.isnull().any()]"
   ]
  },
  {
   "cell_type": "code",
   "execution_count": 34,
   "metadata": {},
   "outputs": [
    {
     "data": {
      "text/plain": [
       "id                       int64\n",
       "store_nbr                int64\n",
       "item_nbr                 int64\n",
       "onpromotion               int8\n",
       "city                  category\n",
       "state                 category\n",
       "type                  category\n",
       "cluster                  int64\n",
       "family                category\n",
       "class                    int64\n",
       "perishable               int64\n",
       "dcoilwtico             float32\n",
       "holiday_type_city     category\n",
       "description_city      category\n",
       "holiday_type_state    category\n",
       "description_state     category\n",
       "holiday_type_nat      category\n",
       "description_nat       category\n",
       "Year                     int64\n",
       "Month                    int64\n",
       "Week                     int64\n",
       "Day                      int64\n",
       "Dayofweek                int64\n",
       "Dayofyear                int64\n",
       "Is_month_end              bool\n",
       "Is_month_start            bool\n",
       "Is_quarter_end            bool\n",
       "Is_quarter_start          bool\n",
       "Is_year_end               bool\n",
       "Is_year_start             bool\n",
       "Elapsed                  int64\n",
       "ret_frq_by_store       float64\n",
       "ret_frq_by_item        float64\n",
       "total_store_sales      float32\n",
       "PayDay                   int64\n",
       "transactions           float64\n",
       "dtype: object"
      ]
     },
     "execution_count": 34,
     "metadata": {},
     "output_type": "execute_result"
    }
   ],
   "source": [
    "grocery_test = pd.merge(grocery_test, ret_frq_median, how='left', on=['item_nbr', 'Year', 'Month'])\n",
    "grocery_test['ret_frq_by_item'].fillna(grocery_test['ret_frq_med'], inplace=True)\n",
    "grocery_test.drop('ret_frq_med', axis=1, inplace=True)\n",
    "grocery_test.head(1).dtypes"
   ]
  },
  {
   "cell_type": "code",
   "execution_count": 35,
   "metadata": {
    "collapsed": true
   },
   "outputs": [],
   "source": [
    "def add_dum_col(df):\n",
    "    df['dummy'] = 1\n",
    "    df_new, _, _ = proc_df(df, 'dummy')\n",
    "    return df_new"
   ]
  },
  {
   "cell_type": "code",
   "execution_count": 36,
   "metadata": {
    "collapsed": true
   },
   "outputs": [],
   "source": [
    "grocery_test = add_dum_col(grocery_test)"
   ]
  },
  {
   "cell_type": "code",
   "execution_count": 37,
   "metadata": {
    "collapsed": true
   },
   "outputs": [],
   "source": [
    "#Dropping oil variable\n",
    "grocery_test.drop('dcoilwtico', axis = 1, inplace = True)"
   ]
  },
  {
   "cell_type": "code",
   "execution_count": 38,
   "metadata": {
    "collapsed": true
   },
   "outputs": [],
   "source": [
    "#Dropping oil variable\n",
    "df_trn.drop('dcoilwtico', axis = 1, inplace = True)"
   ]
  },
  {
   "cell_type": "code",
   "execution_count": 39,
   "metadata": {},
   "outputs": [
    {
     "data": {
      "text/html": [
       "<div>\n",
       "<style scoped>\n",
       "    .dataframe tbody tr th:only-of-type {\n",
       "        vertical-align: middle;\n",
       "    }\n",
       "\n",
       "    .dataframe tbody tr th {\n",
       "        vertical-align: top;\n",
       "    }\n",
       "\n",
       "    .dataframe thead th {\n",
       "        text-align: right;\n",
       "    }\n",
       "</style>\n",
       "<table border=\"1\" class=\"dataframe\">\n",
       "  <thead>\n",
       "    <tr style=\"text-align: right;\">\n",
       "      <th></th>\n",
       "      <th>id</th>\n",
       "      <th>store_nbr</th>\n",
       "      <th>item_nbr</th>\n",
       "      <th>onpromotion</th>\n",
       "      <th>city</th>\n",
       "      <th>state</th>\n",
       "      <th>type</th>\n",
       "      <th>cluster</th>\n",
       "      <th>family</th>\n",
       "      <th>class</th>\n",
       "      <th>...</th>\n",
       "      <th>Is_quarter_end</th>\n",
       "      <th>Is_quarter_start</th>\n",
       "      <th>Is_year_end</th>\n",
       "      <th>Is_year_start</th>\n",
       "      <th>Elapsed</th>\n",
       "      <th>ret_frq_by_store</th>\n",
       "      <th>ret_frq_by_item</th>\n",
       "      <th>total_store_sales</th>\n",
       "      <th>PayDay</th>\n",
       "      <th>transactions</th>\n",
       "    </tr>\n",
       "  </thead>\n",
       "  <tbody>\n",
       "    <tr>\n",
       "      <th>0</th>\n",
       "      <td>125497040</td>\n",
       "      <td>1</td>\n",
       "      <td>96995</td>\n",
       "      <td>0</td>\n",
       "      <td>19</td>\n",
       "      <td>13</td>\n",
       "      <td>4</td>\n",
       "      <td>13</td>\n",
       "      <td>13</td>\n",
       "      <td>1093</td>\n",
       "      <td>...</td>\n",
       "      <td>False</td>\n",
       "      <td>False</td>\n",
       "      <td>False</td>\n",
       "      <td>False</td>\n",
       "      <td>1502841600</td>\n",
       "      <td>84.0</td>\n",
       "      <td>0.0</td>\n",
       "      <td>3905175.25</td>\n",
       "      <td>1</td>\n",
       "      <td>1568.766324</td>\n",
       "    </tr>\n",
       "  </tbody>\n",
       "</table>\n",
       "<p>1 rows × 35 columns</p>\n",
       "</div>"
      ],
      "text/plain": [
       "          id  store_nbr  item_nbr  onpromotion  city  state  type  cluster  \\\n",
       "0  125497040          1     96995            0    19     13     4       13   \n",
       "\n",
       "   family  class      ...       Is_quarter_end  Is_quarter_start  Is_year_end  \\\n",
       "0      13   1093      ...                False             False        False   \n",
       "\n",
       "   Is_year_start     Elapsed  ret_frq_by_store  ret_frq_by_item  \\\n",
       "0          False  1502841600              84.0              0.0   \n",
       "\n",
       "   total_store_sales  PayDay  transactions  \n",
       "0         3905175.25       1   1568.766324  \n",
       "\n",
       "[1 rows x 35 columns]"
      ]
     },
     "execution_count": 39,
     "metadata": {},
     "output_type": "execute_result"
    }
   ],
   "source": [
    "grocery_test.head(1)"
   ]
  },
  {
   "cell_type": "code",
   "execution_count": 40,
   "metadata": {},
   "outputs": [
    {
     "data": {
      "text/html": [
       "<div>\n",
       "<style scoped>\n",
       "    .dataframe tbody tr th:only-of-type {\n",
       "        vertical-align: middle;\n",
       "    }\n",
       "\n",
       "    .dataframe tbody tr th {\n",
       "        vertical-align: top;\n",
       "    }\n",
       "\n",
       "    .dataframe thead th {\n",
       "        text-align: right;\n",
       "    }\n",
       "</style>\n",
       "<table border=\"1\" class=\"dataframe\">\n",
       "  <thead>\n",
       "    <tr style=\"text-align: right;\">\n",
       "      <th></th>\n",
       "      <th>id</th>\n",
       "      <th>store_nbr</th>\n",
       "      <th>item_nbr</th>\n",
       "      <th>onpromotion</th>\n",
       "      <th>transactions</th>\n",
       "      <th>city</th>\n",
       "      <th>state</th>\n",
       "      <th>type</th>\n",
       "      <th>cluster</th>\n",
       "      <th>family</th>\n",
       "      <th>...</th>\n",
       "      <th>Is_quarter_end</th>\n",
       "      <th>Is_quarter_start</th>\n",
       "      <th>Is_year_end</th>\n",
       "      <th>Is_year_start</th>\n",
       "      <th>Elapsed</th>\n",
       "      <th>PayDay</th>\n",
       "      <th>total_store_sales</th>\n",
       "      <th>ret_frq_by_store</th>\n",
       "      <th>ret_frq_by_item</th>\n",
       "      <th>date</th>\n",
       "    </tr>\n",
       "  </thead>\n",
       "  <tbody>\n",
       "    <tr>\n",
       "      <th>0</th>\n",
       "      <td>88106511</td>\n",
       "      <td>38</td>\n",
       "      <td>1998889</td>\n",
       "      <td>0</td>\n",
       "      <td>1301.0</td>\n",
       "      <td>13</td>\n",
       "      <td>9</td>\n",
       "      <td>4</td>\n",
       "      <td>4</td>\n",
       "      <td>4</td>\n",
       "      <td>...</td>\n",
       "      <td>False</td>\n",
       "      <td>False</td>\n",
       "      <td>False</td>\n",
       "      <td>False</td>\n",
       "      <td>1471219200</td>\n",
       "      <td>1</td>\n",
       "      <td>4756712.5</td>\n",
       "      <td>45.0</td>\n",
       "      <td>1</td>\n",
       "      <td>2016-08-15</td>\n",
       "    </tr>\n",
       "  </tbody>\n",
       "</table>\n",
       "<p>1 rows × 36 columns</p>\n",
       "</div>"
      ],
      "text/plain": [
       "         id  store_nbr  item_nbr  onpromotion  transactions  city  state  \\\n",
       "0  88106511         38   1998889            0        1301.0    13      9   \n",
       "\n",
       "   type  cluster  family    ...      Is_quarter_end  Is_quarter_start  \\\n",
       "0     4        4       4    ...               False             False   \n",
       "\n",
       "   Is_year_end  Is_year_start     Elapsed  PayDay  total_store_sales  \\\n",
       "0        False          False  1471219200       1          4756712.5   \n",
       "\n",
       "   ret_frq_by_store  ret_frq_by_item       date  \n",
       "0              45.0                1 2016-08-15  \n",
       "\n",
       "[1 rows x 36 columns]"
      ]
     },
     "execution_count": 40,
     "metadata": {},
     "output_type": "execute_result"
    }
   ],
   "source": [
    "df_trn.head(1)"
   ]
  },
  {
   "cell_type": "markdown",
   "metadata": {},
   "source": [
    "## Performing k-fold Cross Validation"
   ]
  },
  {
   "cell_type": "code",
   "execution_count": 41,
   "metadata": {
    "collapsed": true
   },
   "outputs": [],
   "source": [
    "def split_vals(a,n1,n2): return a[0:n1].copy(), a[n1:n2].copy()"
   ]
  },
  {
   "cell_type": "code",
   "execution_count": 42,
   "metadata": {
    "collapsed": true
   },
   "outputs": [],
   "source": [
    "def plot_fi(fi): return fi.plot('cols', 'imp', 'barh', figsize=(12,7), legend=False)"
   ]
  },
  {
   "cell_type": "code",
   "execution_count": 70,
   "metadata": {
    "collapsed": true
   },
   "outputs": [],
   "source": [
    "#Perform k-fold cross-validation with Random Forest parameters\n",
    "def cross_val_rf(df, y, n_months,n_days, n_est, min_sam_leaf):\n",
    "    \n",
    "    n_folds = int(n_months*30.0/n_days)\n",
    "    errors = []\n",
    "    fis = []\n",
    "    first_dt_train = df.date.min() # First date available in the training set (train.csv)\n",
    "    \n",
    "    #Setting seed\n",
    "    random.seed(9001)\n",
    "    \n",
    "    #Sequentially split available training dataset into train and validation sets\n",
    "    for i in range(1,n_folds):\n",
    "        \n",
    "        set_rf_samples(1_000_000)\n",
    "        # Initialize random forest\n",
    "        m_kcv = RandomForestRegressor(n_estimators = n_est, max_features = 0.5, min_samples_leaf = min_sam_leaf, n_jobs=-1, oob_score = False)\n",
    "        \n",
    "        #Getting dates for training and validation sets\n",
    "        train_sub_startdt = first_dt_train + relativedelta(days = i*n_days)\n",
    "        valid_sub_startdt = first_dt_train + relativedelta(days = (i+1)*n_days)\n",
    "        \n",
    "        #Create indices for training and validation sets\n",
    "        index_train = sorted(df.index[df['date'] == train_sub_startdt].tolist())[0]\n",
    "        index_valid = sorted(df.index[df['date'] == valid_sub_startdt].tolist())[0]\n",
    "        \n",
    "        #Create subsetted dataframes of X,y, and w for training and validation sets\n",
    "        X_train, X_valid = split_vals(df.loc[:, df.columns != 'date'], index_train, index_valid)\n",
    "        y_train, y_valid = split_vals(y, index_train, index_valid)\n",
    "        print(X_train.shape, y_train.shape, X_valid.shape)\n",
    "        \n",
    "        # Compute arrays of item score weights for the items in the validation set (for which we will make predictions)\n",
    "        item_weight_train = 1 + X_train['perishable'] * 0.25\n",
    "        item_weight_valid = 1 + X_valid['perishable'] * 0.25\n",
    "              \n",
    "        #Optimizing the model fit by converting it to float array outside\n",
    "        X_train= np.array(X_train, dtype=np.float32)\n",
    "        \n",
    "        # Fit the random forest model on training set w/ cross validation\n",
    "        %time m_kcv.fit(X_train, y_train)\n",
    "        \n",
    "        #Print the NWRMSLE score and R-squared values for training and validation sets\n",
    "        %time combo_print_score(m_kcv, X_train, y_train, X_valid, y_valid, item_weight_train, item_weight_valid)\n",
    "        print('\\n\\n')\n",
    "        \n",
    "        #Add errors to the errors list\n",
    "        errors.append([get_score(m_kcv, X_train, y_train, item_weight_train), get_score(m_kcv, X_valid, y_valid, item_weight_valid)])\n",
    "        \n",
    "        #Feature importance\n",
    "        fi = rf_feat_importance(m_kcv, df.loc[:, df.columns != 'date'])\n",
    "        print(fi[:10])\n",
    "        #fi.plot('cols', 'imp', figsize=(10,6), legend=False)\n",
    "        #plot_fi(fi[:30])\n",
    "        fis.append(fi[:10])\n",
    "        \n",
    "        #Reducing number of features\n",
    "        to_keep = fi[fi.imp>0.005].cols\n",
    "        df_keep = df[to_keep].copy()\n",
    "        \n",
    "        #Training on training set again\n",
    "        #Create subsetted dataframes of X,y, and w for training and validation sets\n",
    "        X_train, X_valid = split_vals(df_keep.loc[:, df_keep.columns != 'date'], index_train, index_valid)\n",
    "        y_train, y_valid = split_vals(y, index_train, index_valid)\n",
    "        print(X_train.shape, y_train.shape, X_valid.shape)\n",
    "        \n",
    "        # Compute arrays of item score weights for the items in the validation set (for which we will make predictions)\n",
    "        item_weight_train = 1 + X_train['perishable'] * 0.25\n",
    "        item_weight_valid = 1 + X_valid['perishable'] * 0.25\n",
    "              \n",
    "        #Optimizing the model fit by converting it to float array outside\n",
    "        X_train= np.array(X_train, dtype=np.float32)\n",
    "        \n",
    "        # Fit the random forest model on training set w/ cross validation\n",
    "        %time m_kcv.fit(X_train, y_train)\n",
    "        \n",
    "        #Print the NWRMSLE score and R-squared values for training and validation sets\n",
    "        %time combo_print_score(m_kcv, X_train, y_train, X_valid, y_valid, item_weight_train, item_weight_valid)\n",
    "        print('\\n\\n')\n",
    "        \n",
    "        #Add errors to the errors list\n",
    "        errors.append([get_score(m_kcv, X_train, y_train, item_weight_train), get_score(m_kcv, X_valid, y_valid, item_weight_valid)])  \n",
    "        \n",
    "        ##Train on entire training set\n",
    "        # Initialize random forest\n",
    "        m_kcv_new = RandomForestRegressor(n_estimators = n_est, max_features = 0.5, min_samples_leaf = min_sam_leaf, n_jobs=-1, oob_score = False)\n",
    "        \n",
    "        X_train_new = df_keep.loc[:, df_keep.columns != 'date'][:index_valid]\n",
    "        y_train_new = y[:index_valid]\n",
    "        print(X_train_new.shape, y_train_new.shape)\n",
    "              \n",
    "        # Compute arrays of item score weights for the items in the training set (for which we will make predictions)\n",
    "        item_weight_train_new = 1 + X_train_new['perishable'] * 0.25\n",
    "        \n",
    "        #Optimizing the model fit by converting it to float array outside\n",
    "        X_train_new = np.array(X_train_new, dtype=np.float32)\n",
    "        \n",
    "        # Fit the random forest model on training set w/ cross validation\n",
    "        %time m_kcv_new.fit(X_train_new, y_train_new)\n",
    "        \n",
    "        #Subset test set\n",
    "        grocery_test_keep = grocery_test[to_keep].copy()\n",
    "        \n",
    "        #Predict for test set\n",
    "        pred_test_log = m_kcv_new.predict(grocery_test_keep)\n",
    "        pred_test = np.round(np.expm1(pred_test_log), decimals=0)\n",
    "        output = pd.concat([grocery_test_keep['id'],pd.DataFrame(pred_test)],axis=1)\n",
    "        output.columns = ['id','unit_sales']\n",
    "        name = 'pred_' + str(i) + '.csv' \n",
    "        output.to_csv(name,index=False)\n",
    "        \n",
    "    #Write errors to file\n",
    "    with open('errors_forward.txt', 'w') as file:\n",
    "        file.write(str(errors))\n",
    "    \n",
    "    #Write feature importances to file\n",
    "    with open('fi_forward.txt', 'w') as file:\n",
    "        file.write(str(fis))"
   ]
  },
  {
   "cell_type": "markdown",
   "metadata": {},
   "source": [
    "## Performing Backward k-fold Cross-Validation"
   ]
  },
  {
   "cell_type": "code",
   "execution_count": 44,
   "metadata": {
    "collapsed": true
   },
   "outputs": [],
   "source": [
    "def split_vals_back(a,n1,n2): return a[n1:n2].copy(), a[n2:].copy()"
   ]
  },
  {
   "cell_type": "code",
   "execution_count": 74,
   "metadata": {
    "collapsed": true
   },
   "outputs": [],
   "source": [
    "#Perform k-fold cross-validation with Random Forest parameters\n",
    "def cross_val_rf_back(df, y, n_months,n_days, n_est, min_sam_leaf):\n",
    "    \n",
    "    n_folds = int(n_months*30.0/n_days)\n",
    "    errors = []\n",
    "    fis = []\n",
    "    last_dt_train = df.date.max() # Last date available in the training set (train.csv)\n",
    "    \n",
    "    #Setting seed\n",
    "    random.seed(9001)\n",
    "    \n",
    "    #Sequentially split available training dataset into train and validation sets\n",
    "    for i in range(1,n_folds):\n",
    "        \n",
    "        set_rf_samples(1_000_000)\n",
    "        # Initialize random forest\n",
    "        m_kcv_back = RandomForestRegressor(n_estimators = n_est, max_features = 0.5, min_samples_leaf = min_sam_leaf, n_jobs=-1, oob_score = False)\n",
    "        \n",
    "        #Getting dates for training and validation sets\n",
    "        train_sub_startdt = last_dt_train - relativedelta(days = (i+1)*n_days)\n",
    "        valid_sub_startdt = last_dt_train - relativedelta(days = n_days)\n",
    "        \n",
    "        #Create indices for training and validation sets\n",
    "        index_train = sorted(df.index[df['date'] == train_sub_startdt].tolist())[0]\n",
    "        index_valid = sorted(df.index[df['date'] == valid_sub_startdt].tolist())[0]\n",
    "        \n",
    "        #Create subsetted dataframes of X,y, and w for training and validation sets\n",
    "        X_train, X_valid = split_vals_back(df.loc[:, df.columns != 'date'], index_train, index_valid)\n",
    "        y_train, y_valid = split_vals_back(y, index_train, index_valid)\n",
    "        print(X_train.shape, y_train.shape, X_valid.shape)\n",
    "        \n",
    "        # Compute arrays of item score weights for the items in the validation set (for which we will make predictions)\n",
    "        item_weight_train = 1 + X_train['perishable'] * 0.25\n",
    "        item_weight_valid = 1 + X_valid['perishable'] * 0.25\n",
    "              \n",
    "        #Optimizing the model fit by converting it to float array outside\n",
    "        X_train= np.array(X_train, dtype=np.float32)\n",
    "        \n",
    "        # Fit the random forest model on training set w/ cross validation\n",
    "        %time m_kcv_back.fit(X_train, y_train)\n",
    "        \n",
    "        #Print the NWRMSLE score and R-squared values for training and validation sets\n",
    "        %time combo_print_score(m_kcv_back, X_train, y_train, X_valid, y_valid, item_weight_train, item_weight_valid)\n",
    "        print('\\n\\n')\n",
    "        \n",
    "        #Add errors to the errors list\n",
    "        errors.append([get_score(m_kcv_back, X_train, y_train, item_weight_train), get_score(m_kcv_back, X_valid, y_valid, item_weight_valid)])\n",
    "        \n",
    "        #Feature importance\n",
    "        fi = rf_feat_importance(m_kcv_back, df.loc[:, df.columns != 'date'])\n",
    "        print(fi[:10])\n",
    "        #fi.plot('cols', 'imp', figsize=(10,6), legend=False)\n",
    "        #plot_fi(fi[:30])\n",
    "        fis.append(fi[:10])\n",
    "        \n",
    "        #Reducing number of features\n",
    "        to_keep = fi[fi.imp>0.005].cols\n",
    "        df_keep = df[to_keep].copy()\n",
    "        \n",
    "        #Training on training set again\n",
    "        #Create subsetted dataframes of X,y, and w for training and validation sets\n",
    "        X_train, X_valid = split_vals_back(df_keep.loc[:, df_keep.columns != 'date'], index_train, index_valid)\n",
    "        y_train, y_valid = split_vals_back(y, index_train, index_valid)\n",
    "        print(X_train.shape, y_train.shape, X_valid.shape)\n",
    "        \n",
    "        # Compute arrays of item score weights for the items in the validation set (for which we will make predictions)\n",
    "        item_weight_train = 1 + X_train['perishable'] * 0.25\n",
    "        item_weight_valid = 1 + X_valid['perishable'] * 0.25\n",
    "              \n",
    "        #Optimizing the model fit by converting it to float array outside\n",
    "        X_train= np.array(X_train, dtype=np.float32)\n",
    "        \n",
    "        # Fit the random forest model on training set w/ cross validation\n",
    "        %time m_kcv_back.fit(X_train, y_train)\n",
    "        \n",
    "        #Print the NWRMSLE score and R-squared values for training and validation sets\n",
    "        %time combo_print_score(m_kcv_back, X_train, y_train, X_valid, y_valid, item_weight_train, item_weight_valid)\n",
    "        print('\\n\\n')\n",
    "        \n",
    "        #Add errors to the errors list\n",
    "        errors.append([get_score(m_kcv_back, X_train, y_train, item_weight_train), get_score(m_kcv_back, X_valid, y_valid, item_weight_valid)])\n",
    "      \n",
    "        ##Train on entire training set\n",
    "        # Initialize random forest\n",
    "        m_kcv_back_new = RandomForestRegressor(n_estimators = n_est, max_features = 0.5, min_samples_leaf = min_sam_leaf, n_jobs=-1, oob_score = False)\n",
    "        \n",
    "        X_train_new = df_keep.loc[:, df_keep.columns != 'date'][index_train:]\n",
    "        y_train_new = y[index_train:]\n",
    "        print(X_train_new.shape, y_train_new.shape)\n",
    "        \n",
    "        # Compute arrays of item score weights for the items in the training set (for which we will make predictions)\n",
    "        item_weight_train_new = 1 + X_train_new['perishable'] * 0.25\n",
    "        \n",
    "        #Optimizing the model fit by converting it to float array outside\n",
    "        X_train_new = np.array(X_train_new, dtype=np.float32)\n",
    "        \n",
    "        # Fit the random forest model on training set w/ cross validation\n",
    "        %time m_kcv_back_new.fit(X_train_new, y_train_new)\n",
    "        \n",
    "        #Subset test set\n",
    "        grocery_test_keep = grocery_test[to_keep].copy()\n",
    "        \n",
    "        #Predict for test set\n",
    "        pred_test_log = m_kcv_back_new.predict(grocery_test_keep)\n",
    "        pred_test = np.round(np.expm1(pred_test_log), decimals=0)\n",
    "        output = pd.concat([grocery_test_keep['id'],pd.DataFrame(pred_test)],axis=1)\n",
    "        output.columns = ['id','unit_sales']\n",
    "        name = 'pred_back_' + str(i) + '.csv' \n",
    "        output.to_csv(name,index=False)\n",
    "        \n",
    "    #Write errors to file\n",
    "    with open('errors_backward.txt', 'w') as file:\n",
    "        file.write(str(errors))\n",
    "    \n",
    "    #Write feature importances to file\n",
    "    with open('fi_backward.txt', 'w') as file:\n",
    "        file.write(str(fis))"
   ]
  },
  {
   "cell_type": "markdown",
   "metadata": {},
   "source": [
    "## Scoring Metric for the Fitted Model"
   ]
  },
  {
   "cell_type": "code",
   "execution_count": 46,
   "metadata": {
    "collapsed": true
   },
   "outputs": [],
   "source": [
    "# Computes and returns NWRMSLE score and R-squared values\n",
    "def get_score(model, X, y, weights):\n",
    "    # Predicting for the input data\n",
    "    y_hat = model.predict(X)\n",
    "    # Calculating the residuals\n",
    "    rsquared = model.score(X, y)\n",
    "    # Specified score (from Kaggle)\n",
    "    nwrmsle = math.sqrt(np.sum(np.multiply(weights, np.square(y_hat - y))) / np.sum(weights))\n",
    "    res = [nwrmsle, rsquared]\n",
    "    if hasattr(model, 'oob_score_'): res.append(model.oob_score_)\n",
    "    return res\n",
    "\n",
    "def combo_print_score(model, X_train, y_train, X_valid, y_valid, item_weight_train, item_weight_valid):\n",
    "    print('For training set: (nwrmsle, rsquared)')\n",
    "    print(get_score(model, X_train, y_train, item_weight_train))\n",
    "    print('For validation set: (nwrmsle, rsquared)')\n",
    "    print(get_score(model, X_valid, y_valid, item_weight_valid))"
   ]
  },
  {
   "cell_type": "markdown",
   "metadata": {},
   "source": [
    "## Run Cross-Validation"
   ]
  },
  {
   "cell_type": "code",
   "execution_count": 72,
   "metadata": {
    "scrolled": false
   },
   "outputs": [
    {
     "name": "stdout",
     "output_type": "stream",
     "text": [
      "(1426858, 35) (1426858,) (1452701, 35)\n",
      "CPU times: user 11min 20s, sys: 2.36 s, total: 11min 22s\n",
      "Wall time: 22.5 s\n",
      "For training set: (nwrmsle, rsquared)\n",
      "[0.4080954400144813, 0.76869026880564684]\n",
      "For validation set: (nwrmsle, rsquared)\n",
      "[0.5743583225252505, 0.56245012371184955]\n",
      "CPU times: user 2min 50s, sys: 4.3 s, total: 2min 54s\n",
      "Wall time: 10.8 s\n",
      "\n",
      "\n",
      "\n",
      "                 cols       imp\n",
      "2            item_nbr  0.310675\n",
      "10              class  0.189283\n",
      "4        transactions  0.088465\n",
      "9              family  0.069642\n",
      "0                  id  0.067279\n",
      "32  total_store_sales  0.054941\n",
      "34    ret_frq_by_item  0.037160\n",
      "33   ret_frq_by_store  0.028394\n",
      "1           store_nbr  0.023018\n",
      "3         onpromotion  0.022150\n",
      "(1426858, 19) (1426858,) (1452701, 19)\n",
      "CPU times: user 9min 8s, sys: 3.38 s, total: 9min 12s\n",
      "Wall time: 18.8 s\n",
      "For training set: (nwrmsle, rsquared)\n",
      "[0.4073579370734571, 0.76951050042170277]\n",
      "For validation set: (nwrmsle, rsquared)\n",
      "[0.5729704881533401, 0.56456866122112925]\n",
      "CPU times: user 2min 48s, sys: 3.44 s, total: 2min 52s\n",
      "Wall time: 6.74 s\n",
      "\n",
      "\n",
      "\n",
      "(2879559, 19) (2879559,)\n",
      "CPU times: user 13min 28s, sys: 5.77 s, total: 13min 34s\n",
      "Wall time: 27.5 s\n",
      "(2879559, 35) (2879559,) (1419311, 35)\n",
      "CPU times: user 16min 33s, sys: 4.18 s, total: 16min 38s\n",
      "Wall time: 33.1 s\n",
      "For training set: (nwrmsle, rsquared)\n",
      "[0.4633269900786503, 0.70910484742879898]\n",
      "For validation set: (nwrmsle, rsquared)\n",
      "[0.564498883523575, 0.55862701143746274]\n",
      "CPU times: user 4min 20s, sys: 4.12 s, total: 4min 24s\n",
      "Wall time: 14.4 s\n",
      "\n",
      "\n",
      "\n",
      "                 cols       imp\n",
      "2            item_nbr  0.294945\n",
      "10              class  0.183496\n",
      "4        transactions  0.109014\n",
      "0                  id  0.064099\n",
      "9              family  0.063324\n",
      "32  total_store_sales  0.044998\n",
      "34    ret_frq_by_item  0.035726\n",
      "33   ret_frq_by_store  0.027164\n",
      "22          Dayofweek  0.024372\n",
      "1           store_nbr  0.022848\n",
      "(2879559, 19) (2879559,) (1419311, 19)\n",
      "CPU times: user 14min 6s, sys: 6.06 s, total: 14min 13s\n",
      "Wall time: 27.7 s\n",
      "For training set: (nwrmsle, rsquared)\n",
      "[0.4651458005875064, 0.70668432104712964]\n",
      "For validation set: (nwrmsle, rsquared)\n",
      "[0.5657311397444021, 0.55660890990216294]\n",
      "CPU times: user 4min 9s, sys: 4.48 s, total: 4min 13s\n",
      "Wall time: 9.77 s\n",
      "\n",
      "\n",
      "\n",
      "(4298870, 19) (4298870,)\n",
      "CPU times: user 16min 12s, sys: 12.1 s, total: 16min 24s\n",
      "Wall time: 32.9 s\n",
      "(4298870, 35) (4298870,) (1459282, 35)\n",
      "CPU times: user 18min 27s, sys: 5.12 s, total: 18min 32s\n",
      "Wall time: 36.8 s\n",
      "For training set: (nwrmsle, rsquared)\n",
      "[0.4812217587179565, 0.68414621468142267]\n",
      "For validation set: (nwrmsle, rsquared)\n",
      "[0.5753294256529127, 0.56433665813105161]\n",
      "CPU times: user 5min 50s, sys: 6.19 s, total: 5min 56s\n",
      "Wall time: 17.7 s\n",
      "\n",
      "\n",
      "\n",
      "                 cols       imp\n",
      "2            item_nbr  0.286777\n",
      "10              class  0.179410\n",
      "4        transactions  0.108919\n",
      "9              family  0.065497\n",
      "0                  id  0.060388\n",
      "32  total_store_sales  0.053988\n",
      "34    ret_frq_by_item  0.034364\n",
      "33   ret_frq_by_store  0.027314\n",
      "22          Dayofweek  0.026996\n",
      "21                Day  0.026298\n",
      "(4298870, 20) (4298870,) (1459282, 20)\n",
      "CPU times: user 17min 56s, sys: 5.87 s, total: 18min 2s\n",
      "Wall time: 34.4 s\n",
      "For training set: (nwrmsle, rsquared)\n",
      "[0.47590800414665235, 0.69106566730375651]\n",
      "For validation set: (nwrmsle, rsquared)\n",
      "[0.5698523896354013, 0.57246168671717279]\n",
      "CPU times: user 5min 48s, sys: 5.03 s, total: 5min 53s\n",
      "Wall time: 13 s\n",
      "\n",
      "\n",
      "\n",
      "(5758152, 20) (5758152,)\n",
      "CPU times: user 20min 11s, sys: 10.3 s, total: 20min 22s\n",
      "Wall time: 40.5 s\n"
     ]
    }
   ],
   "source": [
    "cross_val_rf(df_trn, y_trn, n_months=2,n_days=15, n_est = 80, min_sam_leaf = 3)"
   ]
  },
  {
   "cell_type": "code",
   "execution_count": 75,
   "metadata": {
    "scrolled": false
   },
   "outputs": [
    {
     "name": "stdout",
     "output_type": "stream",
     "text": [
      "(1571120, 35) (1571120,) (1677344, 35)\n",
      "CPU times: user 11min 25s, sys: 3.87 s, total: 11min 29s\n",
      "Wall time: 23 s\n",
      "For training set: (nwrmsle, rsquared)\n",
      "[0.4383095341350787, 0.74779588928904983]\n",
      "For validation set: (nwrmsle, rsquared)\n",
      "[0.6014039181723291, 0.51307119934266499]\n",
      "CPU times: user 2min 59s, sys: 8.2 s, total: 3min 7s\n",
      "Wall time: 13.7 s\n",
      "\n",
      "\n",
      "\n",
      "                 cols       imp\n",
      "2            item_nbr  0.292627\n",
      "10              class  0.183817\n",
      "4        transactions  0.101059\n",
      "0                  id  0.074593\n",
      "9              family  0.066240\n",
      "32  total_store_sales  0.048522\n",
      "34    ret_frq_by_item  0.039142\n",
      "3         onpromotion  0.037239\n",
      "33   ret_frq_by_store  0.025414\n",
      "22          Dayofweek  0.022295\n",
      "(1571120, 19) (1571120,) (1677344, 19)\n",
      "CPU times: user 10min 6s, sys: 4.06 s, total: 10min 10s\n",
      "Wall time: 20.2 s\n",
      "For training set: (nwrmsle, rsquared)\n",
      "[0.4422267702393719, 0.7432883193598655]\n",
      "For validation set: (nwrmsle, rsquared)\n",
      "[0.6045717649071254, 0.50796185339607502]\n",
      "CPU times: user 2min 50s, sys: 1.07 s, total: 2min 51s\n",
      "Wall time: 6.49 s\n",
      "\n",
      "\n",
      "\n",
      "(3248464, 19) (3248464,)\n",
      "CPU times: user 14min 59s, sys: 5.99 s, total: 15min 5s\n",
      "Wall time: 29.8 s\n",
      "(3176785, 35) (3176785,) (1677344, 35)\n",
      "CPU times: user 16min 19s, sys: 5.87 s, total: 16min 25s\n",
      "Wall time: 32.8 s\n",
      "For training set: (nwrmsle, rsquared)\n",
      "[0.491976772606719, 0.68390264746064533]\n",
      "For validation set: (nwrmsle, rsquared)\n",
      "[0.5969550451762929, 0.52011708285656244]\n",
      "CPU times: user 4min 42s, sys: 3.48 s, total: 4min 46s\n",
      "Wall time: 15.6 s\n",
      "\n",
      "\n",
      "\n",
      "                 cols       imp\n",
      "2            item_nbr  0.278554\n",
      "10              class  0.183555\n",
      "4        transactions  0.103704\n",
      "0                  id  0.074876\n",
      "9              family  0.060074\n",
      "32  total_store_sales  0.052990\n",
      "34    ret_frq_by_item  0.037964\n",
      "3         onpromotion  0.031291\n",
      "22          Dayofweek  0.025920\n",
      "33   ret_frq_by_store  0.024668\n",
      "(3176785, 19) (3176785,) (1677344, 19)\n",
      "CPU times: user 15min, sys: 6.28 s, total: 15min 7s\n",
      "Wall time: 29.5 s\n",
      "For training set: (nwrmsle, rsquared)\n",
      "[0.493919823191263, 0.68142536641340357]\n",
      "For validation set: (nwrmsle, rsquared)\n",
      "[0.5994818364556669, 0.51607656523388246]\n",
      "CPU times: user 4min 23s, sys: 2.54 s, total: 4min 26s\n",
      "Wall time: 10.1 s\n",
      "\n",
      "\n",
      "\n",
      "(4854129, 19) (4854129,)\n",
      "CPU times: user 17min 9s, sys: 9 s, total: 17min 18s\n",
      "Wall time: 34.7 s\n",
      "(4750487, 35) (4750487,) (1677344, 35)\n",
      "CPU times: user 21min 43s, sys: 9.15 s, total: 21min 53s\n",
      "Wall time: 42.7 s\n",
      "For training set: (nwrmsle, rsquared)\n",
      "[0.5095016761035344, 0.65759577518225687]\n",
      "For validation set: (nwrmsle, rsquared)\n",
      "[0.5999225757045666, 0.51517704706142764]\n",
      "CPU times: user 6min 13s, sys: 5.62 s, total: 6min 18s\n",
      "Wall time: 19.3 s\n",
      "\n",
      "\n",
      "\n",
      "                 cols       imp\n",
      "2            item_nbr  0.273166\n",
      "10              class  0.177317\n",
      "4        transactions  0.114271\n",
      "0                  id  0.066248\n",
      "9              family  0.061995\n",
      "32  total_store_sales  0.045254\n",
      "34    ret_frq_by_item  0.035937\n",
      "21                Day  0.027203\n",
      "22          Dayofweek  0.026756\n",
      "3         onpromotion  0.026051\n",
      "(4750487, 20) (4750487,) (1677344, 20)\n",
      "CPU times: user 18min 34s, sys: 7.12 s, total: 18min 41s\n",
      "Wall time: 36.7 s\n",
      "For training set: (nwrmsle, rsquared)\n",
      "[0.5052020386979675, 0.66327600138264664]\n",
      "For validation set: (nwrmsle, rsquared)\n",
      "[0.5952431039383468, 0.52261105948069608]\n",
      "CPU times: user 6min 6s, sys: 6 s, total: 6min 12s\n",
      "Wall time: 14 s\n",
      "\n",
      "\n",
      "\n",
      "(6427831, 20) (6427831,)\n",
      "CPU times: user 21min 49s, sys: 14.2 s, total: 22min 3s\n",
      "Wall time: 43.2 s\n"
     ]
    }
   ],
   "source": [
    "cross_val_rf_back(df_trn, y_trn, n_months=2,n_days=15, n_est = 80, min_sam_leaf = 3)"
   ]
  }
 ],
 "metadata": {
  "kernelspec": {
   "display_name": "Python 3",
   "language": "python",
   "name": "python3"
  },
  "language_info": {
   "codemirror_mode": {
    "name": "ipython",
    "version": 3
   },
   "file_extension": ".py",
   "mimetype": "text/x-python",
   "name": "python",
   "nbconvert_exporter": "python",
   "pygments_lexer": "ipython3",
   "version": "3.6.2"
  }
 },
 "nbformat": 4,
 "nbformat_minor": 2
}
